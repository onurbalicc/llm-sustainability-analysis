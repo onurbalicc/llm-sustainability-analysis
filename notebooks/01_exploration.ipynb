{
 "cells": [
  {
   "cell_type": "code",
   "execution_count": 1,
   "id": "278ae42c",
   "metadata": {},
   "outputs": [],
   "source": [
    "# Step 1: Import libraries\n",
    "import pandas as pd\n",
    "import matplotlib.pyplot as plt\n",
    "import seaborn as sns\n",
    "\n",
    "# Make plots look better\n",
    "sns.set(style=\"whitegrid\")"
   ]
  },
  {
   "cell_type": "code",
   "execution_count": 2,
   "id": "f9a34ae4",
   "metadata": {},
   "outputs": [
    {
     "data": {
      "text/html": [
       "<div>\n",
       "<style scoped>\n",
       "    .dataframe tbody tr th:only-of-type {\n",
       "        vertical-align: middle;\n",
       "    }\n",
       "\n",
       "    .dataframe tbody tr th {\n",
       "        vertical-align: top;\n",
       "    }\n",
       "\n",
       "    .dataframe thead th {\n",
       "        text-align: right;\n",
       "    }\n",
       "</style>\n",
       "<table border=\"1\" class=\"dataframe\">\n",
       "  <thead>\n",
       "    <tr style=\"text-align: right;\">\n",
       "      <th></th>\n",
       "      <th>timestamp</th>\n",
       "      <th>node</th>\n",
       "      <th>watts</th>\n",
       "    </tr>\n",
       "  </thead>\n",
       "  <tbody>\n",
       "    <tr>\n",
       "      <th>0</th>\n",
       "      <td>2022-09-24T08:20:01.000Z</td>\n",
       "      <td>r103u05</td>\n",
       "      <td>721</td>\n",
       "    </tr>\n",
       "    <tr>\n",
       "      <th>1</th>\n",
       "      <td>2022-09-24T08:21:01.000Z</td>\n",
       "      <td>r103u05</td>\n",
       "      <td>470</td>\n",
       "    </tr>\n",
       "    <tr>\n",
       "      <th>2</th>\n",
       "      <td>2022-09-24T08:22:01.000Z</td>\n",
       "      <td>r103u05</td>\n",
       "      <td>461</td>\n",
       "    </tr>\n",
       "    <tr>\n",
       "      <th>3</th>\n",
       "      <td>2022-09-24T08:23:01.000Z</td>\n",
       "      <td>r103u05</td>\n",
       "      <td>458</td>\n",
       "    </tr>\n",
       "    <tr>\n",
       "      <th>4</th>\n",
       "      <td>2022-09-24T08:24:01.000Z</td>\n",
       "      <td>r103u05</td>\n",
       "      <td>462</td>\n",
       "    </tr>\n",
       "  </tbody>\n",
       "</table>\n",
       "</div>"
      ],
      "text/plain": [
       "                  timestamp     node  watts\n",
       "0  2022-09-24T08:20:01.000Z  r103u05    721\n",
       "1  2022-09-24T08:21:01.000Z  r103u05    470\n",
       "2  2022-09-24T08:22:01.000Z  r103u05    461\n",
       "3  2022-09-24T08:23:01.000Z  r103u05    458\n",
       "4  2022-09-24T08:24:01.000Z  r103u05    462"
      ]
     },
     "execution_count": 2,
     "metadata": {},
     "output_type": "execute_result"
    }
   ],
   "source": [
    "# Step 2: Load the dataset\n",
    "df = pd.read_csv(\"../data/butter_e_energy.csv\")\n",
    "\n",
    "# Display first 5 rows\n",
    "df.head()"
   ]
  },
  {
   "cell_type": "code",
   "execution_count": 3,
   "id": "f68ed311",
   "metadata": {},
   "outputs": [
    {
     "name": "stdout",
     "output_type": "stream",
     "text": [
      "Number of rows and columns: (1059206, 3)\n",
      "<class 'pandas.core.frame.DataFrame'>\n",
      "RangeIndex: 1059206 entries, 0 to 1059205\n",
      "Data columns (total 3 columns):\n",
      " #   Column     Non-Null Count    Dtype \n",
      "---  ------     --------------    ----- \n",
      " 0   timestamp  1059206 non-null  object\n",
      " 1   node       1059206 non-null  object\n",
      " 2   watts      1059206 non-null  int64 \n",
      "dtypes: int64(1), object(2)\n",
      "memory usage: 24.2+ MB\n"
     ]
    }
   ],
   "source": [
    "# Step 3: Basic info and shape\n",
    "print(\"Number of rows and columns:\", df.shape)\n",
    "df.info()"
   ]
  },
  {
   "cell_type": "code",
   "execution_count": 4,
   "id": "1b16437a",
   "metadata": {},
   "outputs": [
    {
     "data": {
      "text/plain": [
       "timestamp    0\n",
       "node         0\n",
       "watts        0\n",
       "dtype: int64"
      ]
     },
     "execution_count": 4,
     "metadata": {},
     "output_type": "execute_result"
    }
   ],
   "source": [
    "# Step 4: Check for missing values\n",
    "df.isnull().sum()"
   ]
  },
  {
   "cell_type": "code",
   "execution_count": 5,
   "id": "f223ca49",
   "metadata": {},
   "outputs": [
    {
     "data": {
      "text/html": [
       "<div>\n",
       "<style scoped>\n",
       "    .dataframe tbody tr th:only-of-type {\n",
       "        vertical-align: middle;\n",
       "    }\n",
       "\n",
       "    .dataframe tbody tr th {\n",
       "        vertical-align: top;\n",
       "    }\n",
       "\n",
       "    .dataframe thead th {\n",
       "        text-align: right;\n",
       "    }\n",
       "</style>\n",
       "<table border=\"1\" class=\"dataframe\">\n",
       "  <thead>\n",
       "    <tr style=\"text-align: right;\">\n",
       "      <th></th>\n",
       "      <th>watts</th>\n",
       "    </tr>\n",
       "  </thead>\n",
       "  <tbody>\n",
       "    <tr>\n",
       "      <th>count</th>\n",
       "      <td>1.059206e+06</td>\n",
       "    </tr>\n",
       "    <tr>\n",
       "      <th>mean</th>\n",
       "      <td>2.601211e+02</td>\n",
       "    </tr>\n",
       "    <tr>\n",
       "      <th>std</th>\n",
       "      <td>8.326463e+01</td>\n",
       "    </tr>\n",
       "    <tr>\n",
       "      <th>min</th>\n",
       "      <td>2.080000e+02</td>\n",
       "    </tr>\n",
       "    <tr>\n",
       "      <th>25%</th>\n",
       "      <td>2.180000e+02</td>\n",
       "    </tr>\n",
       "    <tr>\n",
       "      <th>50%</th>\n",
       "      <td>2.210000e+02</td>\n",
       "    </tr>\n",
       "    <tr>\n",
       "      <th>75%</th>\n",
       "      <td>2.260000e+02</td>\n",
       "    </tr>\n",
       "    <tr>\n",
       "      <th>max</th>\n",
       "      <td>7.210000e+02</td>\n",
       "    </tr>\n",
       "  </tbody>\n",
       "</table>\n",
       "</div>"
      ],
      "text/plain": [
       "              watts\n",
       "count  1.059206e+06\n",
       "mean   2.601211e+02\n",
       "std    8.326463e+01\n",
       "min    2.080000e+02\n",
       "25%    2.180000e+02\n",
       "50%    2.210000e+02\n",
       "75%    2.260000e+02\n",
       "max    7.210000e+02"
      ]
     },
     "execution_count": 5,
     "metadata": {},
     "output_type": "execute_result"
    }
   ],
   "source": [
    "# Step 5: Descriptive statistics\n",
    "df.describe()"
   ]
  },
  {
   "cell_type": "code",
   "execution_count": 6,
   "id": "4ebe1b73",
   "metadata": {},
   "outputs": [
    {
     "data": {
      "text/plain": [
       "['timestamp', 'node', 'watts']"
      ]
     },
     "execution_count": 6,
     "metadata": {},
     "output_type": "execute_result"
    }
   ],
   "source": [
    "# Step 6: List columns\n",
    "df.columns.tolist()"
   ]
  },
  {
   "cell_type": "code",
   "execution_count": 7,
   "id": "09bdd4c9",
   "metadata": {},
   "outputs": [
    {
     "data": {
      "text/plain": [
       "0   2022-09-24 08:20:01+00:00\n",
       "1   2022-09-24 08:21:01+00:00\n",
       "2   2022-09-24 08:22:01+00:00\n",
       "3   2022-09-24 08:23:01+00:00\n",
       "4   2022-09-24 08:24:01+00:00\n",
       "Name: timestamp, dtype: datetime64[ns, UTC]"
      ]
     },
     "execution_count": 7,
     "metadata": {},
     "output_type": "execute_result"
    }
   ],
   "source": [
    "# Step 7: Convert timestamp to datetime\n",
    "df['timestamp'] = pd.to_datetime(df['timestamp'])\n",
    "\n",
    "# Check result\n",
    "df['timestamp'].head()"
   ]
  },
  {
   "cell_type": "code",
   "execution_count": 8,
   "id": "217c88a9",
   "metadata": {},
   "outputs": [
    {
     "name": "stdout",
     "output_type": "stream",
     "text": [
      "Start: 2022-09-22 16:28:01+00:00\n",
      "End: 2022-09-30 09:30:01+00:00\n"
     ]
    }
   ],
   "source": [
    "# Step 8: Date range of the dataset\n",
    "print(\"Start:\", df['timestamp'].min())\n",
    "print(\"End:\", df['timestamp'].max())"
   ]
  },
  {
   "cell_type": "code",
   "execution_count": 9,
   "id": "5c05509c",
   "metadata": {},
   "outputs": [
    {
     "data": {
      "text/plain": [
       "337"
      ]
     },
     "execution_count": 9,
     "metadata": {},
     "output_type": "execute_result"
    }
   ],
   "source": [
    "# Step 9: Number of unique hardware nodes\n",
    "df['node'].nunique()"
   ]
  },
  {
   "cell_type": "code",
   "execution_count": 10,
   "id": "4fdedfe6",
   "metadata": {},
   "outputs": [
    {
     "data": {
      "text/plain": [
       "node\n",
       "r103u07    8641\n",
       "r103u01    8641\n",
       "r103u05    8640\n",
       "r105u13    8640\n",
       "r105u19    5761\n",
       "Name: count, dtype: int64"
      ]
     },
     "execution_count": 10,
     "metadata": {},
     "output_type": "execute_result"
    }
   ],
   "source": [
    "# Most frequent nodes\n",
    "df['node'].value_counts().head()"
   ]
  },
  {
   "cell_type": "code",
   "execution_count": 11,
   "id": "99658e02",
   "metadata": {},
   "outputs": [
    {
     "data": {
      "text/plain": [
       "count    1.059206e+06\n",
       "mean     2.601211e+02\n",
       "std      8.326463e+01\n",
       "min      2.080000e+02\n",
       "25%      2.180000e+02\n",
       "50%      2.210000e+02\n",
       "75%      2.260000e+02\n",
       "max      7.210000e+02\n",
       "Name: watts, dtype: float64"
      ]
     },
     "execution_count": 11,
     "metadata": {},
     "output_type": "execute_result"
    }
   ],
   "source": [
    "# Step 10: Energy consumption statistics\n",
    "df['watts'].describe()"
   ]
  },
  {
   "cell_type": "code",
   "execution_count": 12,
   "id": "ab6b083f",
   "metadata": {},
   "outputs": [
    {
     "name": "stderr",
     "output_type": "stream",
     "text": [
      "/var/folders/b1/85fh_qc57qgf67hvb9qdc9zr0000gn/T/ipykernel_12485/803445335.py:2: FutureWarning: 'H' is deprecated and will be removed in a future version, please use 'h' instead.\n",
      "  df.set_index('timestamp').resample('1H')['watts'].mean().plot(figsize=(12, 5))\n"
     ]
    },
    {
     "data": {
      "image/png": "[encoded data removed]",
      "text/plain": [
       "<Figure size 1200x500 with 1 Axes>"
      ]
     },
     "metadata": {},
     "output_type": "display_data"
    }
   ],
   "source": [
    "# Step 11: Plot average power consumption over time (resampled hourly)\n",
    "df.set_index('timestamp').resample('1H')['watts'].mean().plot(figsize=(12, 5))\n",
    "plt.title(\"Hourly Average Power Consumption (Watts)\")\n",
    "plt.xlabel(\"Time\")\n",
    "plt.ylabel(\"Watts\")\n",
    "plt.tight_layout()\n",
    "plt.show()"
   ]
  },
  {
   "cell_type": "code",
   "execution_count": 13,
   "id": "1857a128",
   "metadata": {},
   "outputs": [
    {
     "data": {
      "image/png": "[encoded data removed]",
      "text/plain": [
       "<Figure size 640x480 with 1 Axes>"
      ]
     },
     "metadata": {},
     "output_type": "display_data"
    }
   ],
   "source": [
    "# Step 12: Boxplot for different nodes\n",
    "top_nodes = df['node'].value_counts().head(5).index\n",
    "sns.boxplot(x='node', y='watts', data=df[df['node'].isin(top_nodes)])\n",
    "plt.title(\"Energy Consumption by Node\")\n",
    "plt.xlabel(\"Node\")\n",
    "plt.ylabel(\"Watts\")\n",
    "plt.tight_layout()\n",
    "plt.show()"
   ]
  }
 ],
 "metadata": {
  "kernelspec": {
   "display_name": "Python 3",
   "language": "python",
   "name": "python3"
  },
  "language_info": {
   "codemirror_mode": {
    "name": "ipython",
    "version": 3
   },
   "file_extension": ".py",
   "mimetype": "text/x-python",
   "name": "python",
   "nbconvert_exporter": "python",
   "pygments_lexer": "ipython3",
   "version": "3.9.6"
  }
 },
 "nbformat": 4,
 "nbformat_minor": 5
}
