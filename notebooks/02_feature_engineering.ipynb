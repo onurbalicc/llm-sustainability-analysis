{
 "cells": [
  {
   "cell_type": "code",
   "execution_count": 2,
   "id": "79925ebe",
   "metadata": {},
   "outputs": [
    {
     "name": "stdout",
     "output_type": "stream",
     "text": [
      "Shape: (1059206, 3)\n",
      "\n",
      "Columns: ['timestamp', 'node', 'watts']\n",
      "\n",
      "Date range: 2022-09-22 16:28:01+00:00 to 2022-09-30 09:30:01+00:00\n"
     ]
    },
    {
     "data": {
      "text/html": [
       "<div>\n",
       "<style scoped>\n",
       "    .dataframe tbody tr th:only-of-type {\n",
       "        vertical-align: middle;\n",
       "    }\n",
       "\n",
       "    .dataframe tbody tr th {\n",
       "        vertical-align: top;\n",
       "    }\n",
       "\n",
       "    .dataframe thead th {\n",
       "        text-align: right;\n",
       "    }\n",
       "</style>\n",
       "<table border=\"1\" class=\"dataframe\">\n",
       "  <thead>\n",
       "    <tr style=\"text-align: right;\">\n",
       "      <th></th>\n",
       "      <th>timestamp</th>\n",
       "      <th>node</th>\n",
       "      <th>watts</th>\n",
       "    </tr>\n",
       "  </thead>\n",
       "  <tbody>\n",
       "    <tr>\n",
       "      <th>0</th>\n",
       "      <td>2022-09-24 08:20:01+00:00</td>\n",
       "      <td>r103u05</td>\n",
       "      <td>721</td>\n",
       "    </tr>\n",
       "    <tr>\n",
       "      <th>1</th>\n",
       "      <td>2022-09-24 08:21:01+00:00</td>\n",
       "      <td>r103u05</td>\n",
       "      <td>470</td>\n",
       "    </tr>\n",
       "    <tr>\n",
       "      <th>2</th>\n",
       "      <td>2022-09-24 08:22:01+00:00</td>\n",
       "      <td>r103u05</td>\n",
       "      <td>461</td>\n",
       "    </tr>\n",
       "    <tr>\n",
       "      <th>3</th>\n",
       "      <td>2022-09-24 08:23:01+00:00</td>\n",
       "      <td>r103u05</td>\n",
       "      <td>458</td>\n",
       "    </tr>\n",
       "    <tr>\n",
       "      <th>4</th>\n",
       "      <td>2022-09-24 08:24:01+00:00</td>\n",
       "      <td>r103u05</td>\n",
       "      <td>462</td>\n",
       "    </tr>\n",
       "  </tbody>\n",
       "</table>\n",
       "</div>"
      ],
      "text/plain": [
       "                  timestamp     node  watts\n",
       "0 2022-09-24 08:20:01+00:00  r103u05    721\n",
       "1 2022-09-24 08:21:01+00:00  r103u05    470\n",
       "2 2022-09-24 08:22:01+00:00  r103u05    461\n",
       "3 2022-09-24 08:23:01+00:00  r103u05    458\n",
       "4 2022-09-24 08:24:01+00:00  r103u05    462"
      ]
     },
     "execution_count": 2,
     "metadata": {},
     "output_type": "execute_result"
    }
   ],
   "source": [
    "# 02_feature_engineering.ipynb\n",
    "# Author: Onur Balic\n",
    "# Description: Advanced feature engineering & node-level energy analysis\n",
    "\n",
    "# ==========================\n",
    "# Import necessary libraries\n",
    "# ==========================\n",
    "import pandas as pd\n",
    "import numpy as np\n",
    "import matplotlib.pyplot as plt\n",
    "import seaborn as sns\n",
    "\n",
    "# Set visualization styles\n",
    "sns.set(style=\"whitegrid\")\n",
    "plt.rcParams[\"figure.figsize\"] = (12, 6)\n",
    "\n",
    "# ==========================\n",
    "# Load dataset\n",
    "# ==========================\n",
    "df = pd.read_csv(\"../data/butter_e_energy.csv\")\n",
    "\n",
    "# Convert timestamp to datetime\n",
    "df[\"timestamp\"] = pd.to_datetime(df[\"timestamp\"])\n",
    "\n",
    "# Show basic info\n",
    "print(\"Shape:\", df.shape)\n",
    "print(\"\\nColumns:\", df.columns.tolist())\n",
    "print(\"\\nDate range:\", df[\"timestamp\"].min(), \"to\", df[\"timestamp\"].max())\n",
    "df.head()"
   ]
  },
  {
   "cell_type": "code",
   "execution_count": null,
   "id": "161d2213",
   "metadata": {},
   "outputs": [],
   "source": []
  }
 ],
 "metadata": {
  "kernelspec": {
   "display_name": "Python 3",
   "language": "python",
   "name": "python3"
  },
  "language_info": {
   "codemirror_mode": {
    "name": "ipython",
    "version": 3
   },
   "file_extension": ".py",
   "mimetype": "text/x-python",
   "name": "python",
   "nbconvert_exporter": "python",
   "pygments_lexer": "ipython3",
   "version": "3.9.6"
  }
 },
 "nbformat": 4,
 "nbformat_minor": 5
}
